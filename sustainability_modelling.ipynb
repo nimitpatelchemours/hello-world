{
 "cells": [
  {
   "cell_type": "code",
   "execution_count": null,
   "metadata": {},
   "outputs": [],
   "source": [
    "import os\n",
    "import pandas as pd\n",
    "import numpy\n",
    "from datetime import timedelta\n",
    "import numpy as np\n",
    "import sys\n",
    "\n",
    "os.chdir('/opt/jhub_shared/')\n",
    "sys.path.append(os.getcwd())\n",
    "\n",
    "from common.prediction.data_engineering.data_preparation import resample_and_time_adj"
   ]
  },
  {
   "cell_type": "code",
   "execution_count": 5,
   "metadata": {},
   "outputs": [],
   "source": [
    "# Define the list of sustainability metrics we'd wish to calculate \n",
    "# 1. % acceptance/rejection\n",
    "# 2. top reasons for rejection\n",
    "# 3. % of times within 25/50/75 % of the recommended value"
   ]
  },
  {
   "cell_type": "code",
   "execution_count": 2,
   "metadata": {},
   "outputs": [],
   "source": [
    "# Read in the feedback table and the metadata table\n",
    "# metadata = pd.read_csv('/opt/jhub_shared/DryerOpt_project/outputs/recs/rec_review/metadata_ga_and_hill_climb_pfa_2018_06_03_00__00__00.csv')\n",
    "# feedback = pd.read_csv('/opt/jhub_shared/DryerOpt_project/outputs/recs/rec_review/recommendation_ga_and_hill_climb_pfa_2018_06_03_00__00__00.csv')\n",
    "metadata = pd.read_csv('/opt/jhub_shared/pfa/data/processed/metadata_table.csv')\n",
    "feedback = pd.read_csv('/opt/jhub_shared/pfa/data/processed/feedback_table.csv')\n",
    "\n",
    "# Also read in the raw data from IP21 to calculate some of the metrics\n",
    "df_raw = pd.read_pickle('/opt/jhub_shared/common/outputs/intermediate/dataframes/data_processed_p1630tg.pk')"
   ]
  },
  {
   "cell_type": "code",
   "execution_count": 24,
   "metadata": {},
   "outputs": [],
   "source": [
    "# Grab the recommended features\n",
    "rec_features = list(set(list(feedback['feature'])) - set(['Dryer exit temperature']))"
   ]
  },
  {
   "cell_type": "code",
   "execution_count": 3,
   "metadata": {},
   "outputs": [
    {
     "data": {
      "text/html": [
       "<div>\n",
       "<style scoped>\n",
       "    .dataframe tbody tr th:only-of-type {\n",
       "        vertical-align: middle;\n",
       "    }\n",
       "\n",
       "    .dataframe tbody tr th {\n",
       "        vertical-align: top;\n",
       "    }\n",
       "\n",
       "    .dataframe thead th {\n",
       "        text-align: right;\n",
       "    }\n",
       "</style>\n",
       "<table border=\"1\" class=\"dataframe\">\n",
       "  <thead>\n",
       "    <tr style=\"text-align: right;\">\n",
       "      <th></th>\n",
       "      <th>ExecutionID</th>\n",
       "      <th>ExecuteDate</th>\n",
       "      <th>test_shift</th>\n",
       "      <th>test_algorithm</th>\n",
       "      <th>pfa_test_model</th>\n",
       "      <th>filename</th>\n",
       "      <th>ExecutionTime</th>\n",
       "      <th>Rate change</th>\n",
       "      <th>Temperature change</th>\n",
       "    </tr>\n",
       "  </thead>\n",
       "  <tbody>\n",
       "    <tr>\n",
       "      <th>0</th>\n",
       "      <td>20200000000001</td>\n",
       "      <td>39:23.5</td>\n",
       "      <td>6/3/2018 0:00</td>\n",
       "      <td>ga_and_hill_climb</td>\n",
       "      <td>MLP</td>\n",
       "      <td>ga_and_hill_climb_pfa_2018_06_03_00__00__00.csv</td>\n",
       "      <td>527.859702</td>\n",
       "      <td>10.34</td>\n",
       "      <td>-0.48</td>\n",
       "    </tr>\n",
       "    <tr>\n",
       "      <th>1</th>\n",
       "      <td>20200000000002</td>\n",
       "      <td>29:46.9</td>\n",
       "      <td>6/5/2018 9:00</td>\n",
       "      <td>ga_and_hill_climb</td>\n",
       "      <td>MLP</td>\n",
       "      <td>ga_and_hill_climb_pfa_2018_06_05_09__00__00.csv</td>\n",
       "      <td>528.794836</td>\n",
       "      <td>10.34</td>\n",
       "      <td>1.47</td>\n",
       "    </tr>\n",
       "    <tr>\n",
       "      <th>2</th>\n",
       "      <td>20200000000003</td>\n",
       "      <td>49:01.0</td>\n",
       "      <td>10/8/2018 0:00</td>\n",
       "      <td>ga_and_hill_climb</td>\n",
       "      <td>MLP</td>\n",
       "      <td>ga_and_hill_climb_pfa_2018_10_08_00__00__00.csv</td>\n",
       "      <td>528.897241</td>\n",
       "      <td>10.17</td>\n",
       "      <td>0.23</td>\n",
       "    </tr>\n",
       "    <tr>\n",
       "      <th>3</th>\n",
       "      <td>20200000000004</td>\n",
       "      <td>38:49.8</td>\n",
       "      <td>11/11/2018 15:00</td>\n",
       "      <td>ga_and_hill_climb</td>\n",
       "      <td>MLP</td>\n",
       "      <td>ga_and_hill_climb_pfa_2018_11_11_15__00__00.csv</td>\n",
       "      <td>153.492484</td>\n",
       "      <td>10.91</td>\n",
       "      <td>0.26</td>\n",
       "    </tr>\n",
       "    <tr>\n",
       "      <th>4</th>\n",
       "      <td>20200000000005</td>\n",
       "      <td>42:19.6</td>\n",
       "      <td>11/17/2018 12:00</td>\n",
       "      <td>ga_and_hill_climb</td>\n",
       "      <td>MLP</td>\n",
       "      <td>ga_and_hill_climb_pfa_2018_11_17_12__00__00.csv</td>\n",
       "      <td>158.522596</td>\n",
       "      <td>11.54</td>\n",
       "      <td>-0.49</td>\n",
       "    </tr>\n",
       "  </tbody>\n",
       "</table>\n",
       "</div>"
      ],
      "text/plain": [
       "      ExecutionID ExecuteDate        test_shift     test_algorithm  \\\n",
       "0  20200000000001     39:23.5     6/3/2018 0:00  ga_and_hill_climb   \n",
       "1  20200000000002     29:46.9     6/5/2018 9:00  ga_and_hill_climb   \n",
       "2  20200000000003     49:01.0    10/8/2018 0:00  ga_and_hill_climb   \n",
       "3  20200000000004     38:49.8  11/11/2018 15:00  ga_and_hill_climb   \n",
       "4  20200000000005     42:19.6  11/17/2018 12:00  ga_and_hill_climb   \n",
       "\n",
       "  pfa_test_model                                         filename  \\\n",
       "0            MLP  ga_and_hill_climb_pfa_2018_06_03_00__00__00.csv   \n",
       "1            MLP  ga_and_hill_climb_pfa_2018_06_05_09__00__00.csv   \n",
       "2            MLP  ga_and_hill_climb_pfa_2018_10_08_00__00__00.csv   \n",
       "3            MLP  ga_and_hill_climb_pfa_2018_11_11_15__00__00.csv   \n",
       "4            MLP  ga_and_hill_climb_pfa_2018_11_17_12__00__00.csv   \n",
       "\n",
       "   ExecutionTime  Rate change  Temperature change  \n",
       "0     527.859702        10.34               -0.48  \n",
       "1     528.794836        10.34                1.47  \n",
       "2     528.897241        10.17                0.23  \n",
       "3     153.492484        10.91                0.26  \n",
       "4     158.522596        11.54               -0.49  "
      ]
     },
     "execution_count": 3,
     "metadata": {},
     "output_type": "execute_result"
    }
   ],
   "source": [
    "for exec_id in metadata['ExecutionID']:\n",
    "    "
   ]
  },
  {
   "cell_type": "code",
   "execution_count": 25,
   "metadata": {},
   "outputs": [],
   "source": [
    "# Fetch the timestamp from the metadata, take the corresponding process data, and compare it to the actual recs\n",
    "metadata_exec = metadata[metadata['ExecutionID'] == exec_id]\n",
    "\n",
    "start_time = metadata_exec['test_shift'].values[0]\n",
    "end_time = str(pd.to_datetime(start_time) + timedelta(hours = 3))\n",
    "\n",
    "# Grab the process data corresponding with this metadata\n",
    "process_data = df_raw.loc[(df_raw.index >= start_time) & (df_raw.index < end_time)][rec_features]\n",
    "process_data['timestamp'] = process_data.index\n",
    "process_data['timestamp'] = process_data['timestamp'].astype('object')\n",
    "process_data['timestamp'] = [str(f)[:19] for f in process_data['timestamp']]"
   ]
  },
  {
   "cell_type": "code",
   "execution_count": 67,
   "metadata": {},
   "outputs": [],
   "source": [
    "feedback['timestamp'] = start_time\n",
    "recs_table = feedback.pivot(index='timestamp', columns = 'feature', values = 'Recommendations').drop(['Dryer exit temperature'], axis = 1)\n",
    "recs_table.columns = [str(f) + '_rec' for f in recs_table.columns]\n",
    "recs_table['timestamp'] = recs_table.index\n",
    "recs_table.reset_index(drop = True, inplace = True)\n",
    "recs_table = recs_table.merge(metadata[['ExecutionID', 'test_shift']], how = 'left', left_on = 'timestamp', right_on = 'test_shift')\n",
    "recs_table.drop(['timestamp', 'test_shift'], axis = 1, inplace=True)"
   ]
  },
  {
   "cell_type": "code",
   "execution_count": 68,
   "metadata": {},
   "outputs": [],
   "source": [
    "time_range = pd.date_range(start_time, end_time, freq='T', closed = 'left').to_list()\n",
    "time_range_df =pd.DataFrame({})\n",
    "time_range_df['timestamp'] = [str(f) for f in time_range]\n",
    "time_range_df['ExecutionID'] = metadata['ExecutionID'].values[0]"
   ]
  },
  {
   "cell_type": "code",
   "execution_count": 69,
   "metadata": {},
   "outputs": [],
   "source": [
    "# Each of these timestamps should have the corresponding values of the recs and the values of the actual process\n",
    "time_range_df = time_range_df.merge(recs_table, how = 'left', on = 'ExecutionID')\n",
    "time_range_df = time_range_df.merge(process_data, how = 'left', on = 'timestamp')"
   ]
  },
  {
   "cell_type": "code",
   "execution_count": 101,
   "metadata": {},
   "outputs": [],
   "source": [
    "# Write a function and a loop to take pair of actual and rec values and generate the above metrics\n",
    "def calculate_perc_metrics(feat, time_range_df):\n",
    "    feat_rec = feat + '_rec'\n",
    "    #temp = time_range_df[[feat, feat + '_rec']]\n",
    "    perc_within_25 = sum(abs(time_range_df[feat_rec] - time_range_df[feat])/time_range_df[feat_rec] <= 0.25)/len(time_range_df)\n",
    "    perc_within_50 = sum(abs(time_range_df[feat_rec] - time_range_df[feat])/time_range_df[feat_rec] <= 0.5)/len(time_range_df)\n",
    "    perc_within_75 = sum(abs(time_range_df[feat_rec] - time_range_df[feat])/time_range_df[feat_rec] <= 0.75)/len(time_range_df)\n",
    "    avg_perc_diff = np.mean(abs(time_range_df[feat_rec] - time_range_df[feat])/time_range_df[feat_rec])\n",
    "\n",
    "    temp_stats = pd.DataFrame({'times within 25%': perc_within_25,\n",
    "                              'times within 50%': perc_within_50, 'times within 75%': perc_within_75,\n",
    "                              'avg difference between rec and actual': avg_perc_diff}, index = [feat])\n",
    "    return temp_stats\n",
    "\n",
    "stats_df = pd.DataFrame({})\n",
    "for feat in list(rec_features):\n",
    "    #feat = rec_features[0]\n",
    "    temp_stats = calculate_perc_metrics(feat, time_range_df)\n",
    "    stats_df = pd.concat([stats_df, temp_stats])"
   ]
  },
  {
   "cell_type": "code",
   "execution_count": 7,
   "metadata": {},
   "outputs": [
    {
     "data": {
      "text/html": [
       "<div>\n",
       "<style scoped>\n",
       "    .dataframe tbody tr th:only-of-type {\n",
       "        vertical-align: middle;\n",
       "    }\n",
       "\n",
       "    .dataframe tbody tr th {\n",
       "        vertical-align: top;\n",
       "    }\n",
       "\n",
       "    .dataframe thead th {\n",
       "        text-align: right;\n",
       "    }\n",
       "</style>\n",
       "<table border=\"1\" class=\"dataframe\">\n",
       "  <thead>\n",
       "    <tr style=\"text-align: right;\">\n",
       "      <th></th>\n",
       "      <th>p1630tg</th>\n",
       "      <th>p1548fc_sp</th>\n",
       "    </tr>\n",
       "    <tr>\n",
       "      <th>date</th>\n",
       "      <th></th>\n",
       "      <th></th>\n",
       "    </tr>\n",
       "  </thead>\n",
       "  <tbody>\n",
       "    <tr>\n",
       "      <th>2017-07-11 04:00:00+00:00</th>\n",
       "      <td>195.875</td>\n",
       "      <td>2800.0</td>\n",
       "    </tr>\n",
       "    <tr>\n",
       "      <th>2017-07-11 04:01:00+00:00</th>\n",
       "      <td>195.750</td>\n",
       "      <td>2800.0</td>\n",
       "    </tr>\n",
       "    <tr>\n",
       "      <th>2017-07-11 04:02:00+00:00</th>\n",
       "      <td>195.625</td>\n",
       "      <td>2800.0</td>\n",
       "    </tr>\n",
       "    <tr>\n",
       "      <th>2017-07-11 04:03:00+00:00</th>\n",
       "      <td>195.625</td>\n",
       "      <td>2800.0</td>\n",
       "    </tr>\n",
       "    <tr>\n",
       "      <th>2017-07-11 04:04:00+00:00</th>\n",
       "      <td>195.625</td>\n",
       "      <td>2800.0</td>\n",
       "    </tr>\n",
       "  </tbody>\n",
       "</table>\n",
       "</div>"
      ],
      "text/plain": [
       "                           p1630tg  p1548fc_sp\n",
       "date                                          \n",
       "2017-07-11 04:00:00+00:00  195.875      2800.0\n",
       "2017-07-11 04:01:00+00:00  195.750      2800.0\n",
       "2017-07-11 04:02:00+00:00  195.625      2800.0\n",
       "2017-07-11 04:03:00+00:00  195.625      2800.0\n",
       "2017-07-11 04:04:00+00:00  195.625      2800.0"
      ]
     },
     "execution_count": 7,
     "metadata": {},
     "output_type": "execute_result"
    }
   ],
   "source": [
    "# Calculate the other metrics\n",
    "df_rate_recipe = df_raw[['recipe_number', 'p1630tg', 'p1548fc_sp']]"
   ]
  },
  {
   "cell_type": "code",
   "execution_count": 8,
   "metadata": {},
   "outputs": [
    {
     "data": {
      "text/plain": [
       "(965008, 1496)"
      ]
     },
     "execution_count": 8,
     "metadata": {},
     "output_type": "execute_result"
    }
   ],
   "source": [
    "df_raw.shape"
   ]
  },
  {
   "cell_type": "code",
   "execution_count": null,
   "metadata": {},
   "outputs": [],
   "source": []
  }
 ],
 "metadata": {
  "kernelspec": {
   "display_name": "Python 3",
   "language": "python",
   "name": "python3"
  },
  "language_info": {
   "codemirror_mode": {
    "name": "ipython",
    "version": 3
   },
   "file_extension": ".py",
   "mimetype": "text/x-python",
   "name": "python",
   "nbconvert_exporter": "python",
   "pygments_lexer": "ipython3",
   "version": "3.7.3"
  }
 },
 "nbformat": 4,
 "nbformat_minor": 4
}
